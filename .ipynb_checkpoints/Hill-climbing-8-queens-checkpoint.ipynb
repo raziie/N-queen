{
 "cells": [
  {
   "cell_type": "code",
   "execution_count": 1,
   "id": "988d674f-c768-4853-9540-0aec92c77125",
   "metadata": {},
   "outputs": [],
   "source": [
    "import random\n",
    "\n",
    "def initial_state(size):\n",
    "    # create a random initial state for the problem\n",
    "    # each queen in a row gets a random col number\n",
    "    return [random.randint(0, size-1) for i in range(size)]\n",
    "\n",
    "def compute_attacks(state):\n",
    "    # calculates the number of conflicts in a state\n",
    "    attacks = 0\n",
    "    size = len(state)\n",
    "    # each queen is checked with all the queens in next rows\n",
    "    for i in range(size):\n",
    "        for j in range(i + 1, size):\n",
    "            # if two queens are in the same column or same diagonal\n",
    "            if state[i] == state[j] or abs(state[i] - state[j]) == j - i:\n",
    "                attacks += 1\n",
    "    return attacks\n",
    "    \n",
    "def fitness(state):\n",
    "    # fitness = -conflicts \n",
    "    # since we want to minimize the attacks\n",
    "    return -compute_attacks(state)\n",
    "\n",
    "def get_neighbors(state):\n",
    "    neighbors = []\n",
    "    size = len(state)\n",
    "    for col in range(size):\n",
    "        for row in range(size):\n",
    "            if row != state[col]:\n",
    "                neighbor = list(state)\n",
    "                neighbor[col] = row\n",
    "                neighbors.append(neighbor)\n",
    "    return neighbors\n",
    "    \n",
    "def print_board(state):\n",
    "    # visualize the results\n",
    "    size = len(state)\n",
    "    for row in range(size):\n",
    "        print(\" \".join(\"\\x1b[31mQ\\x1b[0m\" if state[row] == col else \".\" for col in range(size)))"
   ]
  },
  {
   "cell_type": "code",
   "execution_count": 2,
   "id": "911f4bff-9489-4c0d-80d6-0ad3cb952b89",
   "metadata": {},
   "outputs": [],
   "source": [
    "def steepest_ascent_hill_climbing(size, max_iter):\n",
    "    # it considers all neighbors and choose the best one\n",
    "    current_state = initial_state(size)\n",
    "    for i in range(max_iter):\n",
    "        if fitness(current_state) == 0:\n",
    "            # found a solution\n",
    "            return current_state  \n",
    "\n",
    "        neighbors = get_neighbors(current_state)\n",
    "        best_neighbor = max(neighbors, key=fitness)\n",
    "        \n",
    "        if fitness(best_neighbor) <= fitness(current_state):\n",
    "            # there is no better state in the neighborhood\n",
    "            return current_state  \n",
    "            \n",
    "        # go to the best neighbor\n",
    "        current_state = best_neighbor\n",
    "        \n",
    "    # Failed to find a solution within max iterations\n",
    "    return None  "
   ]
  },
  {
   "cell_type": "code",
   "execution_count": 3,
   "id": "bf7ca5a2-5e5e-4572-8e28-29b17eccb6e7",
   "metadata": {},
   "outputs": [
    {
     "name": "stdout",
     "output_type": "stream",
     "text": [
      "Solution found:\n",
      ". . \u001b[31mQ\u001b[0m . . . . .\n",
      ". . . . . . \u001b[31mQ\u001b[0m .\n",
      ". . . \u001b[31mQ\u001b[0m . . . .\n",
      "\u001b[31mQ\u001b[0m . . . . . . .\n",
      ". . . . . . . \u001b[31mQ\u001b[0m\n",
      ". \u001b[31mQ\u001b[0m . . . . . .\n",
      ". . . . \u001b[31mQ\u001b[0m . . .\n",
      ". . . . . . . \u001b[31mQ\u001b[0m\n"
     ]
    }
   ],
   "source": [
    "solution = steepest_ascent_hill_climbing(8, 1000)\n",
    "if solution:\n",
    "    print(\"Solution found:\")\n",
    "    print_board(solution)\n",
    "else:\n",
    "    print(\"Failed to find a solution within the maximum number of iterations!\")"
   ]
  },
  {
   "cell_type": "code",
   "execution_count": 4,
   "id": "fe2356a0-ed7f-4b0d-ad55-f3c666779064",
   "metadata": {},
   "outputs": [],
   "source": [
    "def find_first_better_neighbor(neighbors, current_state):\n",
    "    visited = [False for i in range(len(neighbors))]\n",
    "    while False in visited:\n",
    "        # randomly select a neighbor that is not visited yet\n",
    "        rand_index = random.randint(0, len(neighbors) - 1)\n",
    "        while visited[rand_index] == True:\n",
    "            rand_index = random.randint(0, len(neighbors) - 1)\n",
    "        \n",
    "        next_neighbor = neighbors[rand_index]\n",
    "        visited[rand_index] = True\n",
    "\n",
    "        # selects the first better neighbor and ignore others\n",
    "        if fitness(next_neighbor) > fitness(current_state):\n",
    "            return next_neighbor\n",
    "    return None\n",
    "\n",
    "def first_choice_hill_climbing(size, max_iter=1000000):\n",
    "    current_state = initial_state(size)\n",
    "    for i in range(max_iter):\n",
    "        if fitness(current_state) == 0:\n",
    "            # found a solution\n",
    "            return current_state  \n",
    "\n",
    "        neighbors = get_neighbors(current_state)\n",
    "        next_neighbor = find_first_better_neighbor(neighbors, current_state)\n",
    "        \n",
    "        if next_neighbor:\n",
    "            current_state = next_neighbor\n",
    "        else:\n",
    "            # there is no better state in the neighborhood \n",
    "            return current_state\n",
    "    \n",
    "    # Failed to find a solution within max iterations\n",
    "    return None  "
   ]
  },
  {
   "cell_type": "code",
   "execution_count": 5,
   "id": "c64689ed-f5fc-4f25-ab59-6ef61faea14f",
   "metadata": {},
   "outputs": [
    {
     "name": "stdout",
     "output_type": "stream",
     "text": [
      "Solution found:\n",
      ". . . \u001b[31mQ\u001b[0m . . . .\n",
      "\u001b[31mQ\u001b[0m . . . . . . .\n",
      ". . . . . . \u001b[31mQ\u001b[0m .\n",
      ". . . . \u001b[31mQ\u001b[0m . . .\n",
      ". \u001b[31mQ\u001b[0m . . . . . .\n",
      ". . . . . . . \u001b[31mQ\u001b[0m\n",
      ". . . . . \u001b[31mQ\u001b[0m . .\n",
      ". . \u001b[31mQ\u001b[0m . . . . .\n"
     ]
    }
   ],
   "source": [
    "solution = first_choice_hill_climbing(8, 1000)\n",
    "if solution:\n",
    "    print(\"Solution found:\")\n",
    "    print_board(solution)\n",
    "else:\n",
    "    print(\"Failed to find a solution within the maximum number of iterations!\")"
   ]
  },
  {
   "cell_type": "code",
   "execution_count": 6,
   "id": "49f5b350-44c4-43aa-8853-d2e03500b1e0",
   "metadata": {},
   "outputs": [],
   "source": [
    "def find_better_neighbors(neighbors, current_state):\n",
    "    better_neighbors = []\n",
    "    for neighbor in neighbors:\n",
    "        if fitness(neighbor) > fitness(current_state):\n",
    "            better_neighbors.append(neighbor)\n",
    "    return better_neighbors\n",
    "        \n",
    "\n",
    "def stochastic_hill_climbing(size, max_iter):\n",
    "    # it considers all neighbors and choose the best one\n",
    "    current_state = initial_state(size)\n",
    "    for i in range(max_iter):\n",
    "        if fitness(current_state) == 0:\n",
    "            # found a solution\n",
    "            return current_state  \n",
    "\n",
    "        neighbors = get_neighbors(current_state)\n",
    "        better_neighbors = find_better_neighbors(neighbors, current_state)\n",
    "        \n",
    "        if len(better_neighbors) == 0:\n",
    "            # there is no better state in the neighborhood\n",
    "            return current_state  \n",
    "        else:\n",
    "            # to choose randomly without considering their fitness\n",
    "            # rand_index = random.randint(0, len(better_neighbors) - 1)\n",
    "            # next_neighbor = better_neighbors[rand_index]\n",
    "\n",
    "            # to choose randomly with fits as weights\n",
    "            better_neighbors_fit = [fitness(neighbor) for neighbor in better_neighbors]\n",
    "            # make fits positive and nonzero\n",
    "            worst_fit = min(better_neighbors_fit)\n",
    "            better_neighbors_fit = [fit - worst_fit + 1 for fit in better_neighbors_fit] \n",
    "            next_neighbor = random.choices(better_neighbors, weights=better_neighbors_fit)[0]\n",
    "            # go to the next neighbor\n",
    "            current_state = next_neighbor\n",
    "        \n",
    "    # Failed to find a solution within max iterations\n",
    "    return None  "
   ]
  },
  {
   "cell_type": "code",
   "execution_count": 7,
   "id": "c939cae6-c350-41c3-bc24-2d64a15fac0c",
   "metadata": {},
   "outputs": [
    {
     "name": "stdout",
     "output_type": "stream",
     "text": [
      "Solution found:\n",
      ". . \u001b[31mQ\u001b[0m . . . . .\n",
      ". . . . . \u001b[31mQ\u001b[0m . .\n",
      ". . . \u001b[31mQ\u001b[0m . . . .\n",
      ". \u001b[31mQ\u001b[0m . . . . . .\n",
      ". . . . . . . \u001b[31mQ\u001b[0m\n",
      ". . . . \u001b[31mQ\u001b[0m . . .\n",
      ". . . . . . \u001b[31mQ\u001b[0m .\n",
      "\u001b[31mQ\u001b[0m . . . . . . .\n"
     ]
    }
   ],
   "source": [
    "solution = stochastic_hill_climbing(8, 1000)\n",
    "if solution:\n",
    "    print(\"Solution found:\")\n",
    "    print_board(solution)\n",
    "else:\n",
    "    print(\"Failed to find a solution within the maximum number of iterations!\")"
   ]
  }
 ],
 "metadata": {
  "kernelspec": {
   "display_name": "Python 3 (ipykernel)",
   "language": "python",
   "name": "python3"
  },
  "language_info": {
   "codemirror_mode": {
    "name": "ipython",
    "version": 3
   },
   "file_extension": ".py",
   "mimetype": "text/x-python",
   "name": "python",
   "nbconvert_exporter": "python",
   "pygments_lexer": "ipython3",
   "version": "3.12.3"
  }
 },
 "nbformat": 4,
 "nbformat_minor": 5
}
